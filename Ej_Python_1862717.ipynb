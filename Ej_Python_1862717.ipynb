{
 "cells": [
  {
   "cell_type": "markdown",
   "metadata": {},
   "source": [
    "## Ejercicios básicos de Python\n",
    "* Nombre: Luis Angel Ruiz Ramirez\n",
    "* Matrícula: 1862717\n",
    "* Grupo: 003 Lunes"
   ]
  },
  {
   "cell_type": "markdown",
   "metadata": {},
   "source": [
    "### Ejercicio 1\n",
    "Realiza una variable con tu matricula y realiza una secuencia de imprimir con tu nombre y tu matricula concatenados."
   ]
  },
  {
   "cell_type": "code",
   "execution_count": 2,
   "metadata": {},
   "outputs": [
    {
     "name": "stdout",
     "output_type": "stream",
     "text": [
      "Luis Angel Ruiz Ramirez 1862717\n"
     ]
    }
   ],
   "source": [
    "m=1862717\n",
    "n='Luis Angel Ruiz Ramirez'\n",
    "print(n,m)"
   ]
  },
  {
   "cell_type": "markdown",
   "metadata": {},
   "source": [
    "### Ejercicio 2\n",
    "Pidiendo el input del usuario pide dos números y crea una pequeña calculadora con los operadores básicos de suma, resta, multiplicación, división, y exponente."
   ]
  },
  {
   "cell_type": "code",
   "execution_count": 33,
   "metadata": {},
   "outputs": [
    {
     "name": "stdout",
     "output_type": "stream",
     "text": [
      "Ingresa un número: 6\n",
      "Ingresa otro número: 7\n",
      "La suma del número  6.0  y el número  7.0  es:  13.0\n",
      "La resta del número  6.0  y el número  7.0  es:  -1.0\n",
      "La multiplicación del número  6.0  y el número  7.0  es:  42.0\n",
      "La división del número  6.0  entre el número  7.0  es:  0.8571428571428571\n",
      "El número  6.0  elevado a la potencia  7.0  es:  279936.0\n"
     ]
    }
   ],
   "source": [
    "num=float(input(\"Ingresa un número: \"))\n",
    "nm=float(input(\"Ingresa otro número: \"))\n",
    "suma=num+nm\n",
    "print(\"La suma del número \",num,\" y el número \",nm,\" es: \",suma)\n",
    "resta=num-nm\n",
    "print(\"La resta del número \",num,\" y el número \",nm,\" es: \",resta)\n",
    "multip=num*nm\n",
    "print(\"La multiplicación del número \",num,\" y el número \",nm,\" es: \",multip)\n",
    "div=num/nm\n",
    "print(\"La división del número \",num,\" entre el número \",nm,\" es: \",div)\n",
    "expon=num**nm\n",
    "print(\"El número \",num,\" elevado a la potencia \",nm,\" es: \",expon)"
   ]
  },
  {
   "cell_type": "markdown",
   "metadata": {},
   "source": [
    "### Ejercicio 3\n",
    "Con loop while o for, realiza una lista de 10 numeros multiplos de 3, y después realiza una función de loop que sume todos los números dentro del arreglo."
   ]
  },
  {
   "cell_type": "code",
   "execution_count": 5,
   "metadata": {},
   "outputs": [
    {
     "name": "stdout",
     "output_type": "stream",
     "text": [
      "Los 10 múltiplos de 3 son:  [0, 3, 6, 9, 12, 15, 18, 21, 24, 27, 30]  y su suma es  165\n"
     ]
    }
   ],
   "source": [
    "m3=[]\n",
    "i=0\n",
    "while len(m3)<=10:\n",
    "    if i%3==0:\n",
    "        m3.append(i)\n",
    "    i=i+1\n",
    "suma=sum(m3)\n",
    "print(\"Los 10 múltiplos de 3 son: \",m3,\" y su suma es \",suma)"
   ]
  },
  {
   "cell_type": "markdown",
   "metadata": {},
   "source": [
    "### Ejercicio 4\n",
    "Con una función de if else, revisar si un número es par o es impar."
   ]
  },
  {
   "cell_type": "code",
   "execution_count": 6,
   "metadata": {},
   "outputs": [
    {
     "name": "stdout",
     "output_type": "stream",
     "text": [
      "Número a verificar: 67\n",
      "Impar\n"
     ]
    }
   ],
   "source": [
    "numero=float(input(\"Número a verificar: \"))\n",
    "if numero%2==0:\n",
    "    print(\"Par\")\n",
    "else:\n",
    "    print(\"Impar\")"
   ]
  },
  {
   "cell_type": "markdown",
   "metadata": {},
   "source": [
    "Con una función de if else, revisar si un número es primo o no."
   ]
  },
  {
   "cell_type": "code",
   "execution_count": 11,
   "metadata": {},
   "outputs": [
    {
     "name": "stdout",
     "output_type": "stream",
     "text": [
      "Número a verificar: 16\n",
      "El número 16 no es primo ya que tiene los siguientes divisores [2, 4, 8]\n"
     ]
    }
   ],
   "source": [
    "numero=int(input(\"Número a verificar: \"))\n",
    "divisores=[]\n",
    "for d in range(2,numero):\n",
    "    if numero%d==0:\n",
    "        divisores.append(d)\n",
    "if len(divisores)==0:\n",
    "    print(\"El número\",numero,\" es primo ya que no tiene divisores.\")\n",
    "else:\n",
    "    print(\"El número\",numero,\"no es primo ya que tiene los siguientes divisores\",divisores)"
   ]
  },
  {
   "cell_type": "markdown",
   "metadata": {},
   "source": [
    "### Ejercicio 5\n",
    "Utilizando diferentes clases en python, crea una calculadora con los operadores básicos de suma, resta, multiplicación, división, y exponente."
   ]
  },
  {
   "cell_type": "code",
   "execution_count": 13,
   "metadata": {},
   "outputs": [
    {
     "name": "stdout",
     "output_type": "stream",
     "text": [
      "Ingresa un número: 2\n",
      "Ingresa otro número: 3\n",
      "La suma del número  2.0  y el número  3.0  es:  5.0\n",
      "La resta del número  2.0  y el número  3.0  es:  -1.0\n",
      "La multiplicación del número  2.0  y el número  3.0  es:  6.0\n",
      "La división del número  2.0  entre el número  3.0  es:  0.6666666666666666\n",
      "El número  2.0  elevado a la potencia  3.0  es:  8.0\n"
     ]
    }
   ],
   "source": [
    "def suma(a,b):\n",
    "    sm=a+b\n",
    "    return sm\n",
    "\n",
    "def resta(a,b):\n",
    "    rs=a-b\n",
    "    return rs\n",
    "\n",
    "def multiplicacion(a,b):\n",
    "    mtl=a*b\n",
    "    return mtl\n",
    "\n",
    "def division(a,b):\n",
    "    div=a/b\n",
    "    return div\n",
    "\n",
    "def exponente(a,b):\n",
    "    exp=a**b\n",
    "    return exp\n",
    "\n",
    "num=float(input(\"Ingresa un número: \"))\n",
    "nm=float(input(\"Ingresa otro número: \"))\n",
    "s=suma(num,nm)\n",
    "print(\"La suma del número \",num,\" y el número \",nm,\" es: \",s)\n",
    "r=resta(num,nm)\n",
    "print(\"La resta del número \",num,\" y el número \",nm,\" es: \",r)\n",
    "m=multiplicacion(num,nm)\n",
    "print(\"La multiplicación del número \",num,\" y el número \",nm,\" es: \",m)\n",
    "d=division(num,nm)\n",
    "print(\"La división del número \",num,\" entre el número \",nm,\" es: \",d)\n",
    "e=exponente(num,nm)\n",
    "print(\"El número \",num,\" elevado a la potencia \",nm,\" es: \",e)"
   ]
  },
  {
   "cell_type": "markdown",
   "metadata": {},
   "source": [
    "## Ejercicios con estructuras básicas de Python.\n",
    "#### Tuplas\n",
    "* Crear una variable flotante, integer, boleana y compleja e imprimir el tipo de variable que es."
   ]
  },
  {
   "cell_type": "code",
   "execution_count": 15,
   "metadata": {},
   "outputs": [
    {
     "name": "stdout",
     "output_type": "stream",
     "text": [
      "El número  0.2587  es del tipo <class 'float'>\n",
      "El número  6  es del tipo <class 'int'>\n",
      "La variable bl es  False y es del tipo <class 'bool'>\n",
      "El número  (71+5j)  es del tipo <class 'complex'>\n"
     ]
    }
   ],
   "source": [
    "fl=0.2587\n",
    "print(\"El número \",fl,\" es del tipo\",type(fl))\n",
    "it=7\n",
    "print(\"El número \",b,\" es del tipo\",type(it))\n",
    "bl=True\n",
    "print(\"La variable bl es \",c,\"y es del tipo\",type(bl))\n",
    "cl=71+5j\n",
    "print(\"El número \",cl,\" es del tipo\",type(cl))"
   ]
  },
  {
   "cell_type": "markdown",
   "metadata": {},
   "source": [
    "* Crear una tupla con valores enteros imprimir el primer y ultimo valor."
   ]
  },
  {
   "cell_type": "code",
   "execution_count": 17,
   "metadata": {},
   "outputs": [
    {
     "name": "stdout",
     "output_type": "stream",
     "text": [
      "El primer valor es:  5\n",
      "El último valor es:  7\n"
     ]
    }
   ],
   "source": [
    "tpl=(5,2,6,1,4,8,9,7)\n",
    "l=len(tpl)\n",
    "print(\"El primer valor es: \",tpl[0])\n",
    "print(\"El último valor es: \",tpl[l-1])"
   ]
  },
  {
   "cell_type": "markdown",
   "metadata": {},
   "source": [
    "* Añadir 3 valores de string a la tupla.\n",
    "* Verificar si una variable existe dentro de la tupla."
   ]
  },
  {
   "cell_type": "code",
   "execution_count": 20,
   "metadata": {},
   "outputs": [
    {
     "name": "stdout",
     "output_type": "stream",
     "text": [
      "Variable buscada: Luis\n",
      "La variable Luis forma parte de la tupla\n"
     ]
    }
   ],
   "source": [
    "tpl=('Luis','FCFM','Martes')\n",
    "vb=input(\"Variable buscada: \")\n",
    "if vb in tpl:\n",
    "    print(\"La variable\",vb,\"forma parte de la tupla\")\n",
    "else:\n",
    "    print(\"La variable\",vb,\"no se encontro en la tupla\")"
   ]
  },
  {
   "cell_type": "markdown",
   "metadata": {},
   "source": [
    "#### Listas\n",
    "* Crear una lista con 40 elementos aleatorios enteros.\n",
    "* Con una funcion (def) crear dos listas nuevas a partir de la lista creada por numeros aleatorios, en la cual en una esten los elementos pares, y en la otra los elementos impares.\n",
    "* Crear dos variables con la longitud de ambas listas nuevas e imprimir las variables.\n",
    "* Ordenar los elementos de la lista par de mayor a menor, y los de la lista impar de menor a mayor.\n",
    "* Utilizar al menos cuatro de las funciones de listas en python en la lista original de 40 elementos."
   ]
  },
  {
   "cell_type": "code",
   "execution_count": 42,
   "metadata": {
    "scrolled": true
   },
   "outputs": [
    {
     "name": "stdout",
     "output_type": "stream",
     "text": [
      "La lista es: [3, 4, 5, 6, 9, 10, 11, 14, 15, 17, 18, 20, 22, 25, 26, 28, 29, 32, 33, 34, 35, 36, 38, 40, 41, 42, 44, 45, 49, 50, 53, 54, 55, 60, 63, 64, 65, 66, 68, 69]\n",
      "La cantidad de pares es:  18\n",
      "La cantidad de impares es:  22\n",
      "El orden descendente los numeros pares son [68, 66, 64, 62, 48, 46, 42, 40, 38, 36, 30, 24, 22, 16, 8, 6, 4, 0]\n",
      "En orden ascendente los numeros impares son [1, 3, 5, 13, 15, 19, 21, 27, 29, 31, 35, 39, 41, 43, 47, 51, 53, 55, 61, 63, 67, 69]\n",
      "La suma de los 40 numeros aleatorios es 1408\n",
      "El minimo de los impares es 1\n",
      "El máximo de los pares es 68\n",
      "La suma de los primeros 5 impares es 37\n"
     ]
    }
   ],
   "source": [
    "import random\n",
    "\n",
    "def npar(na):\n",
    "    par=list()\n",
    "    for num in na:\n",
    "        if num%2==0:\n",
    "            par.append(num)\n",
    "    return par\n",
    "\n",
    "def nimpar(na):\n",
    "    impar=list()\n",
    "    for num in na:\n",
    "        if num%2!=0:\n",
    "            impar.append(num)\n",
    "    return impar\n",
    "\n",
    "A=range(0,70)\n",
    "na=random.sample(A,40)\n",
    "print(\"La lista es:\",l)\n",
    "p=npar(na)\n",
    "i=nimpar(na)\n",
    "np=len(p)\n",
    "ni=len(i)\n",
    "print(\"La cantidad de pares es: \",np)\n",
    "print(\"La cantidad de impares es: \",ni)\n",
    "i.sort()\n",
    "p.sort(reverse=True)\n",
    "print(\"El orden descendente los numeros pares son\",p)\n",
    "print(\"En orden ascendente los numeros impares son\",i)\n",
    "sn=sum(na)\n",
    "print(\"La suma de los 40 numeros aleatorios es\",sn)\n",
    "mi=min(i)\n",
    "mp=max(p)\n",
    "print(\"El minimo de los impares es\",mi)\n",
    "print(\"El máximo de los pares es\",mp)\n",
    "si=sum(i[0:5])\n",
    "print(\"La suma de los primeros 5 impares es\",si)"
   ]
  },
  {
   "cell_type": "markdown",
   "metadata": {},
   "source": [
    "#### Diccionarios\n",
    "* Crear un diccionario de 6 personas que conozcas con su primer nombre y su edad.\n",
    "* Crear una lista con los valores de la edad y reacomodar la lista de menor a mayor valor.\n",
    "* Usando el diccionario y un loop, imprimir solo los nombres.\n",
    "* Añadir dos personas nuevas a tu diccionario, incluyendo edad."
   ]
  },
  {
   "cell_type": "code",
   "execution_count": 24,
   "metadata": {},
   "outputs": [
    {
     "name": "stdout",
     "output_type": "stream",
     "text": [
      "El diccionario es:  {'Angel': 40, 'Mario': 50, 'Alejandra': 20, 'Cassandra': 17, 'Rosa': 17, 'Julio': 25}\n",
      "Las edades son:  [17, 17, 20, 25, 40, 50]\n",
      "Los nombres son: \n",
      "Angel\n",
      "Mario\n",
      "Alejandra\n",
      "Cassandra\n",
      "Rosa\n",
      "Julio\n",
      "El diccionario final completo con nombre y edades es {'Angel': 40, 'Mario': 50, 'Alejandra': 20, 'Cassandra': 17, 'Rosa': 17, 'Julio': 25, 'Ana': 17, 'Luis': 43}\n"
     ]
    }
   ],
   "source": [
    "dc={'Angel':40,'Mario':50,'Alejandra':20,'Cassandra':17,'Rosa':17,'Julio':25}\n",
    "print(\"El diccionario es: \",dc)\n",
    "e=list()\n",
    "for edad in dc:\n",
    "    e.append(dc[edad])\n",
    "e.sort()\n",
    "print(\"Las edades son: \",e)\n",
    "print(\"Los nombres son: \")\n",
    "nomb=dc.keys()\n",
    "for n in nomb:\n",
    "    print(n)\n",
    "dc['Ana']=17\n",
    "dc['Luis']=43\n",
    "print(\"El diccionario final completo con nombre y edades es\",dc)"
   ]
  },
  {
   "cell_type": "markdown",
   "metadata": {},
   "source": [
    "#### Sets\n",
    "* Crea un set con 100 numeros aleatorios enteros del 1 al 25.\n",
    "* Comprueba la longitud de tu set.\n",
    "* Crea una lista de 5 numeros aleatorios del 1 al 10 y comprueba si cada valor aparece en el set inicial."
   ]
  },
  {
   "cell_type": "code",
   "execution_count": 29,
   "metadata": {},
   "outputs": [
    {
     "name": "stdout",
     "output_type": "stream",
     "text": [
      "La longitud del set es:  26\n",
      "Los elemntos del set son:  {0, 1, 2, 3, 4, 5, 6, 7, 8, 9, 10, 11, 12, 13, 14, 15, 16, 17, 18, 19, 20, 21, 22, 23, 24, 25}\n",
      "Se han creado los números aleatorios entre 1 y 10\n",
      "El número  4  forma parte del set\n",
      "El número  1  forma parte del set\n",
      "El número  1  forma parte del set\n",
      "El número  6  forma parte del set\n",
      "El número  5  forma parte del set\n"
     ]
    }
   ],
   "source": [
    "import random\n",
    "st=set()\n",
    "for j in range(0,100):\n",
    "    na=random.randint(0,25)\n",
    "    st.add(na)\n",
    "ls=len(st)\n",
    "print(\"La longitud del set es: \",ls)\n",
    "print(\"Los elemntos del set son: \",st)\n",
    "n=list()\n",
    "for j in range(0,5):\n",
    "    na=random.randint(0,10)\n",
    "    n.append(na)\n",
    "print(\"Se han creado los números aleatorios entre 1 y 10\")\n",
    "for num in n:\n",
    "    if num in st:\n",
    "        print(\"El número \",num,\" forma parte del set\")\n",
    "    else:\n",
    "        print(\"El número \",num,\" forma parte del set\")"
   ]
  }
 ],
 "metadata": {
  "kernelspec": {
   "display_name": "Python 3",
   "language": "python",
   "name": "python3"
  },
  "language_info": {
   "codemirror_mode": {
    "name": "ipython",
    "version": 3
   },
   "file_extension": ".py",
   "mimetype": "text/x-python",
   "name": "python",
   "nbconvert_exporter": "python",
   "pygments_lexer": "ipython3",
   "version": "3.8.5"
  }
 },
 "nbformat": 4,
 "nbformat_minor": 4
}
